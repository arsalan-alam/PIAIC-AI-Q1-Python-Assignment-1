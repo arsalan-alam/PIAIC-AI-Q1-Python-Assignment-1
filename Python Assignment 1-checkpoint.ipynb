{
 "cells": [
  {
   "cell_type": "markdown",
   "metadata": {},
   "source": [
    "# PYTHON PROGRAMMING ASSIGNMENT 1"
   ]
  },
  {
   "cell_type": "markdown",
   "metadata": {},
   "source": [
    "# 1. Calculate Area of a Circle"
   ]
  },
  {
   "cell_type": "code",
   "execution_count": 1,
   "metadata": {},
   "outputs": [
    {
     "name": "stdout",
     "output_type": "stream",
     "text": [
      "Enter radius: 0.5\n",
      "Area of a circle is =  0.785\n"
     ]
    }
   ],
   "source": [
    "radius = input(\"Enter radius: \")\n",
    "radius_in_float = float(radius)\n",
    "area = 3.14 * (radius_in_float * radius_in_float)\n",
    "print(\"Area of a circle is = \", area)"
   ]
  },
  {
   "cell_type": "markdown",
   "metadata": {},
   "source": [
    "# 2. Check Number +ve, -ve or 0"
   ]
  },
  {
   "cell_type": "code",
   "execution_count": 2,
   "metadata": {},
   "outputs": [
    {
     "name": "stdout",
     "output_type": "stream",
     "text": [
      "Enter number: -6\n",
      "Negative Number Entered\n"
     ]
    }
   ],
   "source": [
    "number = input(\"Enter number: \")\n",
    "number_in_int = float(number)\n",
    "if number_in_int < 0:\n",
    "    value = \"Negative Number Entered\"\n",
    "elif number_in_int > 0: \n",
    "    value = \"Positive Number Entered\"\n",
    "else:\n",
    "    value = \"Zero Entered\"\n",
    "print(value)"
   ]
  },
  {
   "cell_type": "markdown",
   "metadata": {},
   "source": [
    "# 3. Check Divisibility of Two Numbers."
   ]
  },
  {
   "cell_type": "code",
   "execution_count": 3,
   "metadata": {},
   "outputs": [
    {
     "name": "stdout",
     "output_type": "stream",
     "text": [
      "Enter numerator: 4\n",
      "Enter denominator: 2\n",
      "Number 4 is Completely divisible by 2\n"
     ]
    }
   ],
   "source": [
    "numerator = input(\"Enter numerator: \")\n",
    "denominator = input(\"Enter denominator: \")\n",
    "numerator_in_float = int(numerator)\n",
    "denominator_in_float = int(denominator)\n",
    "if numerator_in_float % denominator_in_float == 0:\n",
    "    print(\"Number\", numerator_in_float, \"is Completely divisible by\", denominator_in_float)\n",
    "else:\n",
    "    print(\"Number\", numerator_in_float, \"is Not Completely divisible by\", denominator_in_float)"
   ]
  },
  {
   "cell_type": "markdown",
   "metadata": {},
   "source": [
    "# 4. Calculate Number of Days"
   ]
  },
  {
   "cell_type": "code",
   "execution_count": 4,
   "metadata": {},
   "outputs": [
    {
     "name": "stdout",
     "output_type": "stream",
     "text": [
      "Enter Start Date in (dd/mm/yy) format: 12/12/2018\n",
      "Enter End Date in (dd/mm/yy) format: 16/12/2018\n",
      "\n",
      "There are 4 days in between 12/12/2018 and 16/12/2018\n"
     ]
    }
   ],
   "source": [
    "import datetime\n",
    "\n",
    "start_date = input(\"Enter Start Date in (dd/mm/yy) format: \")\n",
    "end_date = input(\"Enter End Date in (dd/mm/yy) format: \")\n",
    "\n",
    "date1 = datetime.datetime.strptime(start_date,\"%d/%m/%Y\")\n",
    "date2 = datetime.datetime.strptime(end_date,\"%d/%m/%Y\")\n",
    "days = (date2-date1).days\n",
    "print (\"\\nThere are\", days, \"days in between\", start_date, \"and\", end_date)"
   ]
  },
  {
   "cell_type": "markdown",
   "metadata": {},
   "source": [
    "# 5. Calculate Volume of Sphere"
   ]
  },
  {
   "cell_type": "code",
   "execution_count": 5,
   "metadata": {},
   "outputs": [
    {
     "name": "stdout",
     "output_type": "stream",
     "text": [
      "Enter radius of Sphere: 1\n",
      "Volume of Sphere with Radius 1.0 is 4.1866666666666665\n"
     ]
    }
   ],
   "source": [
    "radius = input(\"Enter radius of Sphere: \")\n",
    "radius_in_float = float(radius)\n",
    "sphere = (4/3) * (3.14 * (radius_in_float * radius_in_float * radius_in_float))\n",
    "print(\"Volume of Sphere with Radius\", radius_in_float, \"is\", sphere)"
   ]
  },
  {
   "cell_type": "markdown",
   "metadata": {},
   "source": [
    "# 6. Copy String 'n' Times"
   ]
  },
  {
   "cell_type": "code",
   "execution_count": 6,
   "metadata": {},
   "outputs": [
    {
     "name": "stdout",
     "output_type": "stream",
     "text": [
      "Enter String: Hi\n",
      "How many copies of String you need:5\n",
      "HiHiHiHiHi\n"
     ]
    }
   ],
   "source": [
    "string = input(\"Enter String: \")\n",
    "number = input(\"How many copies of String you need:\")\n",
    "number_in_int = int(number)\n",
    "string_to_add = ''\n",
    "for x in range(number_in_int):\n",
    "    string_to_add += string\n",
    "print(string_to_add)"
   ]
  },
  {
   "cell_type": "markdown",
   "metadata": {},
   "source": [
    "# 7. Check if Number is Even or Odd "
   ]
  },
  {
   "cell_type": "code",
   "execution_count": 7,
   "metadata": {},
   "outputs": [
    {
     "name": "stdout",
     "output_type": "stream",
     "text": [
      "Enter Number: 5\n",
      "5 is Odd\n"
     ]
    }
   ],
   "source": [
    "number = input(\"Enter Number: \")\n",
    "number_in_int = int(number)\n",
    "if number_in_int % 2 == 0:\n",
    "    print(number_in_int, \"is Even\")\n",
    "else:\n",
    "    print(number_in_int, \"is Odd\")"
   ]
  },
  {
   "cell_type": "markdown",
   "metadata": {},
   "source": [
    "# 8. Vowel Tester"
   ]
  },
  {
   "cell_type": "code",
   "execution_count": 8,
   "metadata": {},
   "outputs": [
    {
     "name": "stdout",
     "output_type": "stream",
     "text": [
      "Enter a character: E\n",
      "Letter E is Vowel\n"
     ]
    }
   ],
   "source": [
    "character = input(\"Enter a character: \")\n",
    "if character == 'a' or character == 'e' or character == 'i' or character == 'o' or character == 'u' or character == 'A' or character == 'E' or character == 'I' or character == 'O' or character == 'U':\n",
    "    print(\"Letter\", character, \"is Vowel\")\n",
    "else:\n",
    "    print(\"Letter\", character, \"is Not Vowel\")    "
   ]
  },
  {
   "cell_type": "markdown",
   "metadata": {},
   "source": [
    "# 9. Check Triangle Area"
   ]
  },
  {
   "cell_type": "code",
   "execution_count": 9,
   "metadata": {},
   "outputs": [
    {
     "name": "stdout",
     "output_type": "stream",
     "text": [
      "Enter Traingle Base: 4\n",
      "Enter Triangle Height: 4\n",
      "Area of triangle with Heigh 4 and Base 4 is 8.0\n"
     ]
    }
   ],
   "source": [
    "base = input(\"Enter Traingle Base: \")\n",
    "base_in_int = int(base)\n",
    "height = input(\"Enter Triangle Height: \")\n",
    "height_in_int = int(height)\n",
    "area = (base_in_int * height_in_int) / 2\n",
    "print(\"Area of triangle with Heigh\", height_in_int, \"and Base\", base_in_int, \"is\", area)"
   ]
  },
  {
   "cell_type": "markdown",
   "metadata": {},
   "source": [
    "# 10. Calculate Interest"
   ]
  },
  {
   "cell_type": "code",
   "execution_count": 10,
   "metadata": {},
   "outputs": [
    {
     "name": "stdout",
     "output_type": "stream",
     "text": [
      "Please Enter Principal Amount: 10000\n",
      "Please Enter Rate of Interest in %: 0.1\n",
      "Please Enter Number of Years: 5\n",
      "After 5 years your Principal Amount 10000 over an interest rate of 0.1 will be 16105.100000000008\n"
     ]
    }
   ],
   "source": [
    "principal_amount = int(input(\"Please Enter Principal Amount: \"))\n",
    "rate_of_interest = float(input(\"Please Enter Rate of Interest in %: \"))\n",
    "years = int(input(\"Please Enter Number of Years: \"))\n",
    "multiply = int(1)\n",
    "for x in range(years):\n",
    "    multiply *= (1 + rate_of_interest)\n",
    "future_value = principal_amount * multiply\n",
    "print(\"After\", years, \"years your Principal Amount\", principal_amount, \"over an interest rate of\", rate_of_interest, \"will be\", future_value)"
   ]
  },
  {
   "cell_type": "markdown",
   "metadata": {},
   "source": [
    "# 11. Euclidean Distance b/w Two Points"
   ]
  },
  {
   "cell_type": "code",
   "execution_count": 11,
   "metadata": {},
   "outputs": [
    {
     "name": "stdout",
     "output_type": "stream",
     "text": [
      "Enter Co-ordinate for x1: 2\n",
      "Enter Co-ordinate for x2: 4\n",
      "Enter Co-ordinate for y1: 4\n",
      "Enter Co-ordinate for y2: 4\n",
      "Distance between points ( 2 , 4 ) and ( 4 , 4 ) is 2\n"
     ]
    }
   ],
   "source": [
    "x1 = int(input(\"Enter Co-ordinate for x1: \"))\n",
    "x2 = int(input(\"Enter Co-ordinate for x2: \"))\n",
    "y1 = int(input(\"Enter Co-ordinate for y1: \"))\n",
    "y2 = int(input(\"Enter Co-ordinate for y2: \"))\n",
    "distance = int(((x2 - x1) * (x2 - x1) + (y2 - y1) * (y2 - y1)) / 2)\n",
    "print(\"Distance between points (\",x1,\",\",x2,\") and (\",y1,\",\",y2,\") is\", distance)"
   ]
  },
  {
   "cell_type": "markdown",
   "metadata": {},
   "source": [
    "# 12. Feet-to-Centimeter Conversion"
   ]
  },
  {
   "cell_type": "code",
   "execution_count": 12,
   "metadata": {},
   "outputs": [
    {
     "name": "stdout",
     "output_type": "stream",
     "text": [
      "Enter Heigh in feet: 5\n",
      "There are 152.4 cm in 5.0 ft\n"
     ]
    }
   ],
   "source": [
    "feet = float(input(\"Enter Heigh in feet: \"))\n",
    "cm = 30.48 * feet\n",
    "print(\"There are\", cm,\"cm in\", feet,\"ft\")"
   ]
  },
  {
   "cell_type": "markdown",
   "metadata": {},
   "source": [
    "# 13. BMI Calculator"
   ]
  },
  {
   "cell_type": "code",
   "execution_count": 13,
   "metadata": {},
   "outputs": [
    {
     "name": "stdout",
     "output_type": "stream",
     "text": [
      "Enter Height in Cm: 180\n",
      "Enter Weight in Kg: 75\n",
      "Your BMI is 23.148148148148145\n"
     ]
    }
   ],
   "source": [
    "height_in_cm = float(input(\"Enter Height in Cm: \"))\n",
    "weight_in_kg = float(input(\"Enter Weight in Kg: \"))\n",
    "meter = height_in_cm * 0.01\n",
    "bmi = weight_in_kg / (meter * meter)\n",
    "print(\"Your BMI is\", bmi)"
   ]
  },
  {
   "cell_type": "markdown",
   "metadata": {},
   "source": [
    "# 14. Calculate the Sum of first 'n' Positive Integers"
   ]
  },
  {
   "cell_type": "code",
   "execution_count": 14,
   "metadata": {},
   "outputs": [
    {
     "name": "stdout",
     "output_type": "stream",
     "text": [
      "Enter a positive integer: 4\n",
      "The sum of the first 4 positive integers is 10\n"
     ]
    }
   ],
   "source": [
    "#Read the input from the user\n",
    "n = int(input(\"Enter a positive integer: \"))\n",
    " \n",
    "#Calculate the sum\n",
    "total = n * (n + 1) / 2\n",
    " \n",
    "#Display the result\n",
    "print(\"The sum of the first\",n,\"positive integers is\", int(total))"
   ]
  },
  {
   "cell_type": "markdown",
   "metadata": {},
   "source": [
    "# 15. Sum of Digits in an Integer/Number"
   ]
  },
  {
   "cell_type": "code",
   "execution_count": 15,
   "metadata": {},
   "outputs": [
    {
     "name": "stdout",
     "output_type": "stream",
     "text": [
      "Enter a number: 15\n",
      "Sum of 1 + 5  is 6\n"
     ]
    }
   ],
   "source": [
    "number = int(input(\"Enter a number: \"))\n",
    "number_in_list = [int(i) for i in str(number)]\n",
    "list_length = len(number_in_list)\n",
    "sum = 0\n",
    "concat_value = ''\n",
    "for value in number_in_list:\n",
    "    sum += value\n",
    "    concat_value += str(value) + \" + \"\n",
    "print(\"Sum of\", concat_value[:-2], \"is\", sum) #[:n] -> will remove the last character(s) from string as specified value in 'n'"
   ]
  },
  {
   "cell_type": "markdown",
   "metadata": {},
   "source": [
    "# 16. Decimal to Binary Converter "
   ]
  },
  {
   "cell_type": "code",
   "execution_count": 16,
   "metadata": {},
   "outputs": [
    {
     "name": "stdout",
     "output_type": "stream",
     "text": [
      "Enter any Decimal number: 5\n",
      "Binary representation of 5 is 101\n"
     ]
    }
   ],
   "source": [
    "# decimal number\n",
    "decimal_number = int(input(\"Enter any Decimal number: \"))\n",
    "binary = bin(decimal_number)\n",
    "binary_in_str = str(binary)\n",
    "# print equivalent binary number\n",
    "print(\"Binary representation of\", decimal_number, \"is\", binary_in_str[2:]) #[n:] -> will remove the first character(s) from string as specified value in 'n'"
   ]
  },
  {
   "cell_type": "markdown",
   "metadata": {},
   "source": [
    "# 17. Binary to Decimal Converter "
   ]
  },
  {
   "cell_type": "code",
   "execution_count": 17,
   "metadata": {},
   "outputs": [
    {
     "name": "stdout",
     "output_type": "stream",
     "text": [
      "Enter any Binary number: 101\n",
      "Decimal representation of 101 is 5\n"
     ]
    }
   ],
   "source": [
    "# binary number\n",
    "binary_number = input(\"Enter any Binary number: \")\n",
    "decimal = int(binary_number, 2)\n",
    "print(\"Decimal representation of\", binary_number, \"is\", decimal)"
   ]
  },
  {
   "cell_type": "markdown",
   "metadata": {},
   "source": [
    "# 18. Vowel and Consonant Counter"
   ]
  },
  {
   "cell_type": "code",
   "execution_count": 24,
   "metadata": {},
   "outputs": [
    {
     "name": "stdout",
     "output_type": "stream",
     "text": [
      "Enter text: QuickBrownFoxJumpsovertheDog\n",
      "Vowels: 9\n",
      "Consonant: 19\n"
     ]
    }
   ],
   "source": [
    "text_string = input(\"Enter text: \")\n",
    "vowels = 0\n",
    "consonants = 0\n",
    "for character in text_string:\n",
    "    if character == 'a' or character == 'e' or character == 'i' or character == 'o' or character == 'u' or character == 'A' or character == 'E' or character == 'I' or character == 'O' or character == 'U':\n",
    "        vowels += 1\n",
    "    else:\n",
    "        consonants += 1\n",
    "print(\"Vowels:\", vowels)\n",
    "print(\"Consonant:\", consonants)"
   ]
  },
  {
   "cell_type": "markdown",
   "metadata": {},
   "source": [
    "# 19. Palindrome Tester"
   ]
  },
  {
   "cell_type": "code",
   "execution_count": 19,
   "metadata": {},
   "outputs": [
    {
     "name": "stdout",
     "output_type": "stream",
     "text": [
      "Enter Text: AHA\n",
      "Text AHA is Palindrome\n"
     ]
    }
   ],
   "source": [
    "my_str = input(\"Enter Text: \")\n",
    "\n",
    "# make it suitable for caseless comparison\n",
    "lower_case_my_str = my_str.casefold()\n",
    "\n",
    "# reverse the string\n",
    "rev_str = reversed(lower_case_my_str)\n",
    "\n",
    "# check if the string is equal to its reverse\n",
    "if list(lower_case_my_str) == list(rev_str):\n",
    "    print(\"Text\", my_str, \"is Palindrome\")\n",
    "else:\n",
    "    print(\"Text\", my_str, \"is not a Palindrome\")"
   ]
  },
  {
   "cell_type": "markdown",
   "metadata": {},
   "source": [
    "# 20. Count Alphabets, Numbers and Special Characters."
   ]
  },
  {
   "cell_type": "code",
   "execution_count": 20,
   "metadata": {},
   "outputs": [
    {
     "name": "stdout",
     "output_type": "stream",
     "text": [
      "Please Enter your Own String : Python 3.2, Test\n",
      "\n",
      "Alphabets = 10\n",
      "Digits = 2\n",
      "Special Characters = 2\n",
      "Spaces = 2\n"
     ]
    }
   ],
   "source": [
    "string = input(\"Please Enter your Own String : \")\n",
    "\n",
    "alphabets = digits = special = spaces = 0\n",
    "\n",
    "for i in range(len(string)):\n",
    "    # Check for Alphabets...\n",
    "    if(string[i].isalpha()):\n",
    "        alphabets = alphabets + 1\n",
    "    # Check for Integers...\n",
    "    elif(string[i].isdigit()):\n",
    "        digits = digits + 1\n",
    "    # Check for Spaces...\n",
    "    elif(string[i] == ' '):\n",
    "        spaces += 1\n",
    "    # Check for Special Characters like ',./\\;#'...\n",
    "    else:\n",
    "        special = special + 1\n",
    "        \n",
    "print(\"\\nAlphabets =\", alphabets)\n",
    "print(\"Digits =\", digits)\n",
    "print(\"Special Characters =\", special)\n",
    "print(\"Spaces =\", spaces)"
   ]
  },
  {
   "cell_type": "markdown",
   "metadata": {},
   "source": [
    "# 21. Construct Pattern"
   ]
  },
  {
   "cell_type": "code",
   "execution_count": 21,
   "metadata": {},
   "outputs": [
    {
     "name": "stdout",
     "output_type": "stream",
     "text": [
      "* \n",
      "* * \n",
      "* * * \n",
      "* * * * \n",
      "* * * * * \n",
      "* * * * \n",
      "* * * \n",
      "* * \n",
      "* \n"
     ]
    }
   ],
   "source": [
    "'''\n",
    "==================================================\n",
    "The below written code will generate this pattern:    \n",
    "==================================================\n",
    "*\n",
    "* *\n",
    "* * *\n",
    "* * * *\n",
    "* * * * *\n",
    "* * * *\n",
    "* * *\n",
    "* *\n",
    "*\n",
    "'''\n",
    "\n",
    "length = 5\n",
    "concat_value = ''\n",
    "for i in range(length):\n",
    "    if i > 0:\n",
    "        concat_value += '*' + ' '\n",
    "        print(concat_value)\n",
    "\n",
    "num = 1\n",
    "for i in range(length):\n",
    "    for j in range(length, i, -1):\n",
    "        print('*', end=\" \")\n",
    "        num = num + 1\n",
    "    print()\n",
    "    num = 1"
   ]
  },
  {
   "cell_type": "markdown",
   "metadata": {},
   "source": [
    "# 22. Construct Pattern"
   ]
  },
  {
   "cell_type": "code",
   "execution_count": 22,
   "metadata": {},
   "outputs": [
    {
     "name": "stdout",
     "output_type": "stream",
     "text": [
      "1 \n",
      "1 2 \n",
      "1 2 3 \n",
      "1 2 3 4 \n",
      "1 2 3 4 5 \n",
      "1 2 3 4 \n",
      "1 2 3 \n",
      "1 2 \n",
      "1 \n"
     ]
    }
   ],
   "source": [
    "'''\n",
    "==================================================\n",
    "The below written code will generate this pattern:    \n",
    "==================================================\n",
    "1\n",
    "1 2\n",
    "1 2 3\n",
    "1 2 3 4\n",
    "1 2 3 4 5\n",
    "1 2 3 4\n",
    "1 2 3\n",
    "1 2\n",
    "'''\n",
    "\n",
    "length = 5\n",
    "concat_value = ''\n",
    "for i in range(length):\n",
    "    if i > 0:\n",
    "        concat_value += str(i) + ' '\n",
    "        print(concat_value)\n",
    "\n",
    "num = 1\n",
    "for i in range(length):\n",
    "    for j in range(length, i, -1):\n",
    "        print(num, end=\" \")\n",
    "        num = num + 1\n",
    "    print()\n",
    "    num = 1"
   ]
  },
  {
   "cell_type": "markdown",
   "metadata": {},
   "source": [
    "# 23. Construct Pattern "
   ]
  },
  {
   "cell_type": "code",
   "execution_count": 23,
   "metadata": {},
   "outputs": [
    {
     "name": "stdout",
     "output_type": "stream",
     "text": [
      "1 \n",
      "2 2 \n",
      "3 3 3 \n",
      "4 4 4 4 \n",
      "5 5 5 5 5 \n",
      "6 6 6 6 6 6 \n",
      "7 7 7 7 7 7 7 \n",
      "8 8 8 8 8 8 8 8 \n",
      "9 9 9 9 9 9 9 9 9 \n"
     ]
    }
   ],
   "source": [
    "'''\n",
    "==================================================\n",
    "The below written code will generate this pattern:\n",
    "==================================================\n",
    "1\n",
    "22\n",
    "333\n",
    "4444\n",
    "55555\n",
    "666666\n",
    "7777777\n",
    "88888888\n",
    "999999999\n",
    "'''\n",
    "length = 10\n",
    "counter = 1\n",
    "for i in range(length):\n",
    "    concat_value = ''\n",
    "    if i > 0:\n",
    "        for x in range(counter):\n",
    "            concat_value += str(i) + ' '\n",
    "        print(concat_value)\n",
    "        counter += 1"
   ]
  }
 ],
 "metadata": {
  "kernelspec": {
   "display_name": "Python 3",
   "language": "python",
   "name": "python3"
  },
  "language_info": {
   "codemirror_mode": {
    "name": "ipython",
    "version": 3
   },
   "file_extension": ".py",
   "mimetype": "text/x-python",
   "name": "python",
   "nbconvert_exporter": "python",
   "pygments_lexer": "ipython3",
   "version": "3.7.3"
  }
 },
 "nbformat": 4,
 "nbformat_minor": 2
}
